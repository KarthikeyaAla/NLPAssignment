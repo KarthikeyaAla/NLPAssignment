{
 "cells": [
  {
   "cell_type": "code",
   "execution_count": 2,
   "id": "0011e3bd",
   "metadata": {},
   "outputs": [],
   "source": [
    "# Importing all the libraries\n",
    "\n",
    "import time\n",
    "import pandas as pd\n",
    "import xml.etree.ElementTree as ET"
   ]
  },
  {
   "cell_type": "code",
   "execution_count": 9,
   "id": "b70c8f16",
   "metadata": {},
   "outputs": [
    {
     "name": "stdout",
     "output_type": "stream",
     "text": [
      "It took the file 5.913424015045166 seconds to convert from XML to CSV\n",
      "There are 23422 rows and 57 columns\n"
     ]
    }
   ],
   "source": [
    "# TASK 1.1\n",
    "# Reading XML and converting to CSV\n",
    "\n",
    "start_time = time.time()\n",
    "\n",
    "tree = ET.parse(\"data/US_XML_AddFeed_20100101_20100107.xml\")\n",
    "root = tree.getroot()\n",
    "\n",
    "get_range = lambda col: range(len(col))\n",
    "l = [{r[i].tag:r[i].text for i in get_range(r)} for r in root]\n",
    "\n",
    "df = pd.DataFrame.from_dict(l)\n",
    "\n",
    "# Exporting to CSV file\n",
    "df.to_csv(\"data/cleaned_file.csv\")\n",
    "\n",
    "end_time = time.time()\n",
    "time_taken = end_time - start_time\n",
    "\n",
    "print(f\"It took the file {time_taken} seconds to convert from XML to CSV\")\n",
    "\n",
    "print(f\"There are {len(df.axes[0])} rows and {len(df.axes[1])} columns\")"
   ]
  },
  {
   "cell_type": "code",
   "execution_count": 21,
   "id": "2f08a03f",
   "metadata": {},
   "outputs": [
    {
     "name": "stdout",
     "output_type": "stream",
     "text": [
      "['JobID', 'CleanJobTitle', 'JobDomain', 'CanonCity', 'CanonCountry', 'CanonState', 'JobDate', 'JobText', 'JobURL', 'PostingHTML', 'Source', 'JobReferenceID', 'Email', 'CanonEmployer', 'Latitude', 'Longitude', 'CanonIntermediary', 'Telephone', 'CanonJobTitle', 'CanonCounty', 'DivisionCode', 'MSA', 'LMA', 'InternshipFlag', 'ConsolidatedONET', 'CanonCertification', 'CanonSkillClusters', 'CanonSkills', 'IsDuplicate', 'IsDuplicateOf', 'CanonMaximumDegree', 'CanonMinimumDegree', 'CanonOtherDegrees', 'CanonPreferredDegrees', 'CanonRequiredDegrees', 'CIPCode', 'StandardMajor', 'MaxExperience', 'MinExperience', 'ConsolidatedInferredNAICS', 'BGTOcc', 'MaxAnnualSalary', 'MaxHourlySalary', 'MinAnnualSalary', 'MinHourlySalary', 'YearsOfExperience', 'CanonJobHours', 'CanonJobType', 'CanonPostalCode', 'CanonYearsOfExperienceCanonLevel', 'CanonYearsOfExperienceLevel', 'ConsolidatedTitle', 'Language', 'BGTSubOcc', 'ConsolidatedDegreeLevels', 'MaxDegreeLevel', 'MinDegreeLevel']\n",
      "2.506190760823158\n",
      "16.66382033985142\n"
     ]
    }
   ],
   "source": [
    "# TASK 1.2\n",
    "# Missing values\n",
    "\n",
    "print(list(df.columns))\n",
    "\n",
    "# Ratio of missing for selected columns / variables\n",
    "print(df['ConsolidatedONET'].isnull().sum() / len(df.axes[0]) * 100)\n",
    "print(df['ConsolidatedInferredNAICS'].isnull().sum() / len(df.axes[0]) * 100)\n",
    "\n"
   ]
  },
  {
   "cell_type": "code",
   "execution_count": 28,
   "id": "aa64b298",
   "metadata": {},
   "outputs": [
    {
     "data": {
      "text/html": [
       "<div>\n",
       "<style scoped>\n",
       "    .dataframe tbody tr th:only-of-type {\n",
       "        vertical-align: middle;\n",
       "    }\n",
       "\n",
       "    .dataframe tbody tr th {\n",
       "        vertical-align: top;\n",
       "    }\n",
       "\n",
       "    .dataframe thead th {\n",
       "        text-align: right;\n",
       "    }\n",
       "</style>\n",
       "<table border=\"1\" class=\"dataframe\">\n",
       "  <thead>\n",
       "    <tr style=\"text-align: right;\">\n",
       "      <th></th>\n",
       "      <th>ConsolidatedONET</th>\n",
       "      <th>count</th>\n",
       "    </tr>\n",
       "  </thead>\n",
       "  <tbody>\n",
       "    <tr>\n",
       "      <th>419</th>\n",
       "      <td>41401200</td>\n",
       "      <td>1938</td>\n",
       "    </tr>\n",
       "    <tr>\n",
       "      <th>304</th>\n",
       "      <td>29114100</td>\n",
       "      <td>844</td>\n",
       "    </tr>\n",
       "    <tr>\n",
       "      <th>408</th>\n",
       "      <td>41203100</td>\n",
       "      <td>730</td>\n",
       "    </tr>\n",
       "    <tr>\n",
       "      <th>403</th>\n",
       "      <td>41101100</td>\n",
       "      <td>590</td>\n",
       "    </tr>\n",
       "    <tr>\n",
       "      <th>89</th>\n",
       "      <td>15113200</td>\n",
       "      <td>582</td>\n",
       "    </tr>\n",
       "  </tbody>\n",
       "</table>\n",
       "</div>"
      ],
      "text/plain": [
       "    ConsolidatedONET  count\n",
       "419         41401200   1938\n",
       "304         29114100    844\n",
       "408         41203100    730\n",
       "403         41101100    590\n",
       "89          15113200    582"
      ]
     },
     "execution_count": 28,
     "metadata": {},
     "output_type": "execute_result"
    }
   ],
   "source": [
    "# TASK 2.2\n",
    "# Top 5 occupations that are in demand\n",
    "df.groupby(['ConsolidatedONET'])['ConsolidatedONET'].count().reset_index(name=\"count\").sort_values(['count'], ascending = False).head(5)"
   ]
  },
  {
   "cell_type": "code",
   "execution_count": null,
   "id": "973523a7",
   "metadata": {},
   "outputs": [],
   "source": []
  }
 ],
 "metadata": {
  "kernelspec": {
   "display_name": "Python 3 (ipykernel)",
   "language": "python",
   "name": "python3"
  },
  "language_info": {
   "codemirror_mode": {
    "name": "ipython",
    "version": 3
   },
   "file_extension": ".py",
   "mimetype": "text/x-python",
   "name": "python",
   "nbconvert_exporter": "python",
   "pygments_lexer": "ipython3",
   "version": "3.9.13"
  }
 },
 "nbformat": 4,
 "nbformat_minor": 5
}
